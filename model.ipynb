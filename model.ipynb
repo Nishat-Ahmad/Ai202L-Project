{
 "cells": [
  {
   "cell_type": "markdown",
   "id": "7bdc8249",
   "metadata": {},
   "source": [
    "<h1> imports </h1>"
   ]
  },
  {
   "cell_type": "code",
   "execution_count": null,
   "id": "53d226f6",
   "metadata": {},
   "outputs": [],
   "source": [
    "import tensorflow\n",
    "import "
   ]
  }
 ],
 "metadata": {
  "kernelspec": {
   "display_name": "Python 3",
   "language": "python",
   "name": "python3"
  },
  "language_info": {
   "name": "python",
   "version": "3.12.6"
  }
 },
 "nbformat": 4,
 "nbformat_minor": 5
}
